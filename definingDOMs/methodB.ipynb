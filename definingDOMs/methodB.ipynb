{
 "cells": [
  {
   "cell_type": "code",
   "execution_count": 1,
   "metadata": {},
   "outputs": [],
   "source": [
    "from icecube import icetray, dataio, dataclasses, simclasses, clsim\n",
    "from icecube.icetray import I3Units, OMKey, I3Frame\n",
    "from I3Tray import *\n",
    "from icecube.dataclasses import ModuleKey\n",
    "import numpy as np\n",
    "from scipy import stats\n",
    "from scipy.optimize import minimize\n",
    "from scipy.stats.distributions import chi\n",
    "import scipy.constants as spc\n",
    "import SelectingDoublePeakDOM"
   ]
  },
  {
   "cell_type": "code",
   "execution_count": null,
   "metadata": {},
   "outputs": [],
   "source": [
    "for file in fileList:\n",
    "    for frame in file: \n",
    "        mctree = frame[\"I3MCTree\"]\n",
    "        doublePeakMap = simclasses.I3MCPESeriesMap()\n",
    "        primary = mctree.primaries\n",
    "        lepton = dataclasses.I3MCTree.first_child(mctree, primary[0].id)\n",
    "\n",
    "        if lepton.type == 15 or lepton.type == -15:\n",
    "            print(lepton.type)\n",
    "\n",
    "            tau_daughters = dataclasses.I3MCTree.get_daughters(mctree, lepton.id)\n",
    "            tau_pos = lepton.pos\n",
    "            x_tau_pos = tau_pos.x\n",
    "            y_tau_pos = tau_pos.y\n",
    "            z_tau_pos = tau_pos.z\n",
    "            \n",
    "            if lepton.length > \n",
    "\n",
    "            for td in range(0, len(tau_daughters)):\n",
    "                print('Daughters', tau_daughters[td].type)\n",
    "                if tau_daughters[td].type == 16 or tau_daughters[td].type == -16:\n",
    "                    tau_daughters_pos = tau_daughters[td].pos\n",
    "                    x_td_pos = tau_daughters_pos.x\n",
    "                    y_td_pos = tau_daughters_pos.y\n",
    "                    z_td_pos = tau_daughters_pos.z"
   ]
  }
 ],
 "metadata": {
  "kernelspec": {
   "display_name": "Python 3",
   "language": "python",
   "name": "python3"
  },
  "language_info": {
   "codemirror_mode": {
    "name": "ipython",
    "version": 2
   },
   "file_extension": ".py",
   "mimetype": "text/x-python",
   "name": "python",
   "nbconvert_exporter": "python",
   "pygments_lexer": "ipython2",
   "version": "2.7.15"
  }
 },
 "nbformat": 4,
 "nbformat_minor": 2
}
